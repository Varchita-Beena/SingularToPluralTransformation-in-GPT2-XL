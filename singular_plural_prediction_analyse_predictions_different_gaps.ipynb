{
 "cells": [
  {
   "cell_type": "code",
   "execution_count": 1,
   "id": "0b2f727e",
   "metadata": {},
   "outputs": [],
   "source": [
    "import torch\n",
    "import numpy\n",
    "import pandas as pd\n",
    "import os\n",
    "import random\n",
    "#import transformer_lens.utils as utils\n",
    "#from transformer_lens import ActivationCache, HookedTransformer\n",
    "import numpy as np\n",
    "import seaborn as sns\n",
    "import matplotlib.pyplot as plt\n"
   ]
  },
  {
   "cell_type": "code",
   "execution_count": 6,
   "id": "d9fd2c2d",
   "metadata": {},
   "outputs": [],
   "source": [
    "main_path = '../mean_ablation_predictions_different_gaps/'\n",
    "heads_layers_files = os.listdir(main_path)\n",
    "if '.DS_Store' in heads_layers_files:\n",
    "    heads_layers_files.remove('.DS_Store')"
   ]
  },
  {
   "cell_type": "code",
   "execution_count": 7,
   "id": "dac5f97c",
   "metadata": {},
   "outputs": [
    {
     "data": {
      "text/plain": [
       "129"
      ]
     },
     "execution_count": 7,
     "metadata": {},
     "output_type": "execute_result"
    }
   ],
   "source": [
    "len(heads_layers_files)"
   ]
  },
  {
   "cell_type": "code",
   "execution_count": 208,
   "id": "7573071c",
   "metadata": {},
   "outputs": [
    {
     "data": {
      "text/plain": [
       "6"
      ]
     },
     "execution_count": 208,
     "metadata": {},
     "output_type": "execute_result"
    }
   ],
   "source": [
    "gap_heads_layers_files = []\n",
    "gap = 8\n",
    "for each in heads_layers_files:\n",
    "    if each.split('_')[-1].split('.')[0] == str(gap):\n",
    "        gap_heads_layers_files.append(each)\n",
    "len(gap_heads_layers_files)"
   ]
  },
  {
   "cell_type": "code",
   "execution_count": 209,
   "id": "37694ea6",
   "metadata": {},
   "outputs": [
    {
     "name": "stdout",
     "output_type": "stream",
     "text": [
      "0 predictions_s_plural_XL_layers_16_to_23_8.csv\n",
      "1 predictions_s_plural_XL_layers_0_to_7_8.csv\n",
      "2 predictions_s_plural_XL_layers_8_to_15_8.csv\n",
      "3 predictions_s_plural_XL_layers_32_to_39_8.csv\n",
      "4 predictions_s_plural_XL_layers_40_to_47_8.csv\n",
      "5 predictions_s_plural_XL_layers_24_to_31_8.csv\n"
     ]
    }
   ],
   "source": [
    "\n",
    "main_pred = pd.read_csv('../dataset_csvs_singular_plural/predictions/correct_preds_xl_s_plural.csv')\n",
    "non_ablated_preds = main_pred['predictions'].tolist()\n",
    "main_prob = pd.read_csv('../dataset_csvs_singular_plural/predictions/correct_preds_xl_s_plural.csv')['probabilities'].mean()\n",
    "\n",
    "true_preds_per_file = []\n",
    "common_elements_per_file = []\n",
    "count_common_per_file = []\n",
    "more_or_less_true = []\n",
    "slayer = []\n",
    "elayer = []\n",
    "names_temp_true_preds_per_file = []\n",
    "per_file_prob = []\n",
    "prob_diff = []\n",
    "for inde, file_name in enumerate(gap_heads_layers_files):\n",
    "    print(inde, file_name)\n",
    "    temp_count = 0\n",
    "    temp_true_preds = []\n",
    "    temp = pd.read_csv(main_path + file_name)\n",
    "    for i, row in temp.iterrows():\n",
    "        plural = row['plural']\n",
    "        pred = row['prediction']\n",
    "        if plural == pred[1:]:\n",
    "            temp_count += 1\n",
    "            temp_true_preds.append(pred[1:])\n",
    "    \n",
    "    \n",
    "    true_preds_per_file.append(temp_count)\n",
    "    names_temp_true_preds_per_file.append(temp_true_preds)\n",
    "    common_elements = set(non_ablated_preds).intersection(temp_true_preds)\n",
    "    common_elements_per_file.append(list(common_elements))\n",
    "    count_common = len(common_elements)\n",
    "    count_common_per_file.append(count_common)\n",
    "    more_or_less_true.append(len(non_ablated_preds) - count_common)\n",
    "    split_values = file_name.split('_')\n",
    "    \n",
    "    \n",
    "    temp_prob = temp['probability'].mean()\n",
    "    per_file_prob.append(temp_prob)\n",
    "    prob_diff.append(main_prob - temp_prob)\n",
    "\n",
    "    start = split_values[-4] \n",
    "    end = split_values[-2]\n",
    "\n",
    "    slayer.append(start)\n",
    "    elayer.append(end)\n",
    "        \n",
    "    \n",
    "\n"
   ]
  },
  {
   "cell_type": "code",
   "execution_count": 210,
   "id": "1e0a8286",
   "metadata": {},
   "outputs": [
    {
     "data": {
      "text/plain": [
       "80"
      ]
     },
     "execution_count": 210,
     "metadata": {},
     "output_type": "execute_result"
    }
   ],
   "source": [
    "len(non_ablated_preds)"
   ]
  },
  {
   "cell_type": "code",
   "execution_count": 211,
   "id": "5fce14ec",
   "metadata": {},
   "outputs": [],
   "source": [
    "df = pd.DataFrame({\n",
    "    'names_temp_true_preds_per_file':names_temp_true_preds_per_file,\n",
    "    'true_preds_per_file':true_preds_per_file,\n",
    "    'common_elements_per_file':common_elements_per_file,\n",
    "    'count_common_per_file':count_common_per_file,\n",
    "    'more_or_less_true':more_or_less_true,\n",
    "    'slayer':slayer,\n",
    "    'elayer':elayer,\n",
    "    'per_file_prob':per_file_prob,\n",
    "    'prob_diff':prob_diff\n",
    "    \n",
    "})"
   ]
  },
  {
   "cell_type": "code",
   "execution_count": 212,
   "id": "cfc77561",
   "metadata": {},
   "outputs": [
    {
     "data": {
      "text/plain": [
       "(6, 9)"
      ]
     },
     "execution_count": 212,
     "metadata": {},
     "output_type": "execute_result"
    }
   ],
   "source": [
    "df.shape"
   ]
  },
  {
   "cell_type": "code",
   "execution_count": 213,
   "id": "937c10ec",
   "metadata": {},
   "outputs": [],
   "source": [
    "df['true_pred_minus_common_count'] = df['true_preds_per_file'] - df['count_common_per_file']"
   ]
  },
  {
   "cell_type": "code",
   "execution_count": 214,
   "id": "1eaa20d8",
   "metadata": {},
   "outputs": [],
   "source": [
    "df.to_csv('../dataset_csvs_singular_plural/predictions/layer_head_analysis_gap_' + str(gap) + '.csv')"
   ]
  },
  {
   "cell_type": "code",
   "execution_count": 215,
   "id": "c5bea9c7",
   "metadata": {},
   "outputs": [
    {
     "data": {
      "text/plain": [
       "array([79, 34, 80, 76])"
      ]
     },
     "execution_count": 215,
     "metadata": {},
     "output_type": "execute_result"
    }
   ],
   "source": [
    "df['count_common_per_file'].unique()"
   ]
  },
  {
   "cell_type": "code",
   "execution_count": 216,
   "id": "026e20c2",
   "metadata": {},
   "outputs": [
    {
     "data": {
      "text/plain": [
       "80"
      ]
     },
     "execution_count": 216,
     "metadata": {},
     "output_type": "execute_result"
    }
   ],
   "source": [
    "len(non_ablated_preds)"
   ]
  },
  {
   "cell_type": "code",
   "execution_count": 217,
   "id": "44b3f847",
   "metadata": {},
   "outputs": [
    {
     "data": {
      "text/html": [
       "<div>\n",
       "<style scoped>\n",
       "    .dataframe tbody tr th:only-of-type {\n",
       "        vertical-align: middle;\n",
       "    }\n",
       "\n",
       "    .dataframe tbody tr th {\n",
       "        vertical-align: top;\n",
       "    }\n",
       "\n",
       "    .dataframe thead th {\n",
       "        text-align: right;\n",
       "    }\n",
       "</style>\n",
       "<table border=\"1\" class=\"dataframe\">\n",
       "  <thead>\n",
       "    <tr style=\"text-align: right;\">\n",
       "      <th></th>\n",
       "      <th>names_temp_true_preds_per_file</th>\n",
       "      <th>true_preds_per_file</th>\n",
       "      <th>common_elements_per_file</th>\n",
       "      <th>count_common_per_file</th>\n",
       "      <th>more_or_less_true</th>\n",
       "      <th>slayer</th>\n",
       "      <th>elayer</th>\n",
       "      <th>per_file_prob</th>\n",
       "      <th>prob_diff</th>\n",
       "      <th>true_pred_minus_common_count</th>\n",
       "    </tr>\n",
       "  </thead>\n",
       "  <tbody>\n",
       "    <tr>\n",
       "      <th>2</th>\n",
       "      <td>[cats, books, cars, flowers, computers, window...</td>\n",
       "      <td>36</td>\n",
       "      <td>[tires, windows, bulbs, fingers, laptops, fork...</td>\n",
       "      <td>34</td>\n",
       "      <td>46</td>\n",
       "      <td>8</td>\n",
       "      <td>15</td>\n",
       "      <td>0.229962</td>\n",
       "      <td>0.214642</td>\n",
       "      <td>2</td>\n",
       "    </tr>\n",
       "  </tbody>\n",
       "</table>\n",
       "</div>"
      ],
      "text/plain": [
       "                      names_temp_true_preds_per_file  true_preds_per_file  \\\n",
       "2  [cats, books, cars, flowers, computers, window...                   36   \n",
       "\n",
       "                            common_elements_per_file  count_common_per_file  \\\n",
       "2  [tires, windows, bulbs, fingers, laptops, fork...                     34   \n",
       "\n",
       "   more_or_less_true slayer elayer  per_file_prob  prob_diff  \\\n",
       "2                 46      8     15       0.229962   0.214642   \n",
       "\n",
       "   true_pred_minus_common_count  \n",
       "2                             2  "
      ]
     },
     "execution_count": 217,
     "metadata": {},
     "output_type": "execute_result"
    }
   ],
   "source": [
    "df[df['count_common_per_file'] < 70]"
   ]
  },
  {
   "cell_type": "code",
   "execution_count": 218,
   "id": "e720b0bb",
   "metadata": {},
   "outputs": [
    {
     "data": {
      "text/html": [
       "<div>\n",
       "<style scoped>\n",
       "    .dataframe tbody tr th:only-of-type {\n",
       "        vertical-align: middle;\n",
       "    }\n",
       "\n",
       "    .dataframe tbody tr th {\n",
       "        vertical-align: top;\n",
       "    }\n",
       "\n",
       "    .dataframe thead th {\n",
       "        text-align: right;\n",
       "    }\n",
       "</style>\n",
       "<table border=\"1\" class=\"dataframe\">\n",
       "  <thead>\n",
       "    <tr style=\"text-align: right;\">\n",
       "      <th></th>\n",
       "      <th>names_temp_true_preds_per_file</th>\n",
       "      <th>true_preds_per_file</th>\n",
       "      <th>common_elements_per_file</th>\n",
       "      <th>count_common_per_file</th>\n",
       "      <th>more_or_less_true</th>\n",
       "      <th>slayer</th>\n",
       "      <th>elayer</th>\n",
       "      <th>per_file_prob</th>\n",
       "      <th>prob_diff</th>\n",
       "      <th>true_pred_minus_common_count</th>\n",
       "    </tr>\n",
       "  </thead>\n",
       "  <tbody>\n",
       "    <tr>\n",
       "      <th>5</th>\n",
       "      <td>[cats, dogs, books, chairs, houses, cars, appl...</td>\n",
       "      <td>79</td>\n",
       "      <td>[tires, clips, windows, moons, bulbs, trips, c...</td>\n",
       "      <td>76</td>\n",
       "      <td>4</td>\n",
       "      <td>24</td>\n",
       "      <td>31</td>\n",
       "      <td>0.35039</td>\n",
       "      <td>0.094213</td>\n",
       "      <td>3</td>\n",
       "    </tr>\n",
       "  </tbody>\n",
       "</table>\n",
       "</div>"
      ],
      "text/plain": [
       "                      names_temp_true_preds_per_file  true_preds_per_file  \\\n",
       "5  [cats, dogs, books, chairs, houses, cars, appl...                   79   \n",
       "\n",
       "                            common_elements_per_file  count_common_per_file  \\\n",
       "5  [tires, clips, windows, moons, bulbs, trips, c...                     76   \n",
       "\n",
       "   more_or_less_true slayer elayer  per_file_prob  prob_diff  \\\n",
       "5                  4     24     31        0.35039   0.094213   \n",
       "\n",
       "   true_pred_minus_common_count  \n",
       "5                             3  "
      ]
     },
     "execution_count": 218,
     "metadata": {},
     "output_type": "execute_result"
    }
   ],
   "source": [
    "df[(df['true_preds_per_file'] < 80) & (df['true_preds_per_file'] > 70)]\n"
   ]
  },
  {
   "cell_type": "code",
   "execution_count": 219,
   "id": "e5a63ac1",
   "metadata": {},
   "outputs": [
    {
     "data": {
      "text/html": [
       "<div>\n",
       "<style scoped>\n",
       "    .dataframe tbody tr th:only-of-type {\n",
       "        vertical-align: middle;\n",
       "    }\n",
       "\n",
       "    .dataframe tbody tr th {\n",
       "        vertical-align: top;\n",
       "    }\n",
       "\n",
       "    .dataframe thead th {\n",
       "        text-align: right;\n",
       "    }\n",
       "</style>\n",
       "<table border=\"1\" class=\"dataframe\">\n",
       "  <thead>\n",
       "    <tr style=\"text-align: right;\">\n",
       "      <th></th>\n",
       "      <th>names_temp_true_preds_per_file</th>\n",
       "      <th>true_preds_per_file</th>\n",
       "      <th>common_elements_per_file</th>\n",
       "      <th>count_common_per_file</th>\n",
       "      <th>more_or_less_true</th>\n",
       "      <th>slayer</th>\n",
       "      <th>elayer</th>\n",
       "      <th>per_file_prob</th>\n",
       "      <th>prob_diff</th>\n",
       "      <th>true_pred_minus_common_count</th>\n",
       "    </tr>\n",
       "  </thead>\n",
       "  <tbody>\n",
       "    <tr>\n",
       "      <th>0</th>\n",
       "      <td>[cats, dogs, books, chairs, houses, cars, appl...</td>\n",
       "      <td>87</td>\n",
       "      <td>[places, fingers, plates, movies, clouds, hats...</td>\n",
       "      <td>79</td>\n",
       "      <td>1</td>\n",
       "      <td>16</td>\n",
       "      <td>23</td>\n",
       "      <td>0.371539</td>\n",
       "      <td>0.073064</td>\n",
       "      <td>8</td>\n",
       "    </tr>\n",
       "    <tr>\n",
       "      <th>1</th>\n",
       "      <td>[cats, dogs, books, chairs, houses, cars, appl...</td>\n",
       "      <td>84</td>\n",
       "      <td>[places, fingers, plates, movies, clouds, hats...</td>\n",
       "      <td>79</td>\n",
       "      <td>1</td>\n",
       "      <td>0</td>\n",
       "      <td>7</td>\n",
       "      <td>0.390597</td>\n",
       "      <td>0.054006</td>\n",
       "      <td>5</td>\n",
       "    </tr>\n",
       "  </tbody>\n",
       "</table>\n",
       "</div>"
      ],
      "text/plain": [
       "                      names_temp_true_preds_per_file  true_preds_per_file  \\\n",
       "0  [cats, dogs, books, chairs, houses, cars, appl...                   87   \n",
       "1  [cats, dogs, books, chairs, houses, cars, appl...                   84   \n",
       "\n",
       "                            common_elements_per_file  count_common_per_file  \\\n",
       "0  [places, fingers, plates, movies, clouds, hats...                     79   \n",
       "1  [places, fingers, plates, movies, clouds, hats...                     79   \n",
       "\n",
       "   more_or_less_true slayer elayer  per_file_prob  prob_diff  \\\n",
       "0                  1     16     23       0.371539   0.073064   \n",
       "1                  1      0      7       0.390597   0.054006   \n",
       "\n",
       "   true_pred_minus_common_count  \n",
       "0                             8  \n",
       "1                             5  "
      ]
     },
     "execution_count": 219,
     "metadata": {},
     "output_type": "execute_result"
    }
   ],
   "source": [
    "df[df['true_preds_per_file'] > 80 ]"
   ]
  },
  {
   "cell_type": "code",
   "execution_count": 220,
   "id": "a48bc19e",
   "metadata": {},
   "outputs": [
    {
     "data": {
      "text/plain": [
       "(0.21464160078124503, 0.04845450275144941)"
      ]
     },
     "execution_count": 220,
     "metadata": {},
     "output_type": "execute_result"
    }
   ],
   "source": [
    "max_diff = df['prob_diff'].max()\n",
    "min_diff = df['prob_diff'].min()\n",
    "max_diff, min_diff"
   ]
  },
  {
   "cell_type": "code",
   "execution_count": 221,
   "id": "d138b4bc",
   "metadata": {},
   "outputs": [
    {
     "data": {
      "text/html": [
       "<div>\n",
       "<style scoped>\n",
       "    .dataframe tbody tr th:only-of-type {\n",
       "        vertical-align: middle;\n",
       "    }\n",
       "\n",
       "    .dataframe tbody tr th {\n",
       "        vertical-align: top;\n",
       "    }\n",
       "\n",
       "    .dataframe thead th {\n",
       "        text-align: right;\n",
       "    }\n",
       "</style>\n",
       "<table border=\"1\" class=\"dataframe\">\n",
       "  <thead>\n",
       "    <tr style=\"text-align: right;\">\n",
       "      <th></th>\n",
       "      <th>names_temp_true_preds_per_file</th>\n",
       "      <th>true_preds_per_file</th>\n",
       "      <th>common_elements_per_file</th>\n",
       "      <th>count_common_per_file</th>\n",
       "      <th>more_or_less_true</th>\n",
       "      <th>slayer</th>\n",
       "      <th>elayer</th>\n",
       "      <th>per_file_prob</th>\n",
       "      <th>prob_diff</th>\n",
       "      <th>true_pred_minus_common_count</th>\n",
       "    </tr>\n",
       "  </thead>\n",
       "  <tbody>\n",
       "    <tr>\n",
       "      <th>2</th>\n",
       "      <td>[cats, books, cars, flowers, computers, window...</td>\n",
       "      <td>36</td>\n",
       "      <td>[tires, windows, bulbs, fingers, laptops, fork...</td>\n",
       "      <td>34</td>\n",
       "      <td>46</td>\n",
       "      <td>8</td>\n",
       "      <td>15</td>\n",
       "      <td>0.229962</td>\n",
       "      <td>0.214642</td>\n",
       "      <td>2</td>\n",
       "    </tr>\n",
       "  </tbody>\n",
       "</table>\n",
       "</div>"
      ],
      "text/plain": [
       "                      names_temp_true_preds_per_file  true_preds_per_file  \\\n",
       "2  [cats, books, cars, flowers, computers, window...                   36   \n",
       "\n",
       "                            common_elements_per_file  count_common_per_file  \\\n",
       "2  [tires, windows, bulbs, fingers, laptops, fork...                     34   \n",
       "\n",
       "   more_or_less_true slayer elayer  per_file_prob  prob_diff  \\\n",
       "2                 46      8     15       0.229962   0.214642   \n",
       "\n",
       "   true_pred_minus_common_count  \n",
       "2                             2  "
      ]
     },
     "execution_count": 221,
     "metadata": {},
     "output_type": "execute_result"
    }
   ],
   "source": [
    "df[df['prob_diff'] == max_diff]"
   ]
  },
  {
   "cell_type": "code",
   "execution_count": 222,
   "id": "e873297e",
   "metadata": {},
   "outputs": [
    {
     "data": {
      "text/html": [
       "<div>\n",
       "<style scoped>\n",
       "    .dataframe tbody tr th:only-of-type {\n",
       "        vertical-align: middle;\n",
       "    }\n",
       "\n",
       "    .dataframe tbody tr th {\n",
       "        vertical-align: top;\n",
       "    }\n",
       "\n",
       "    .dataframe thead th {\n",
       "        text-align: right;\n",
       "    }\n",
       "</style>\n",
       "<table border=\"1\" class=\"dataframe\">\n",
       "  <thead>\n",
       "    <tr style=\"text-align: right;\">\n",
       "      <th></th>\n",
       "      <th>names_temp_true_preds_per_file</th>\n",
       "      <th>true_preds_per_file</th>\n",
       "      <th>common_elements_per_file</th>\n",
       "      <th>count_common_per_file</th>\n",
       "      <th>more_or_less_true</th>\n",
       "      <th>slayer</th>\n",
       "      <th>elayer</th>\n",
       "      <th>per_file_prob</th>\n",
       "      <th>prob_diff</th>\n",
       "      <th>true_pred_minus_common_count</th>\n",
       "    </tr>\n",
       "  </thead>\n",
       "  <tbody>\n",
       "    <tr>\n",
       "      <th>4</th>\n",
       "      <td>[cats, dogs, books, chairs, houses, cars, appl...</td>\n",
       "      <td>80</td>\n",
       "      <td>[places, fingers, plates, movies, clouds, hats...</td>\n",
       "      <td>80</td>\n",
       "      <td>0</td>\n",
       "      <td>40</td>\n",
       "      <td>47</td>\n",
       "      <td>0.396149</td>\n",
       "      <td>0.048455</td>\n",
       "      <td>0</td>\n",
       "    </tr>\n",
       "  </tbody>\n",
       "</table>\n",
       "</div>"
      ],
      "text/plain": [
       "                      names_temp_true_preds_per_file  true_preds_per_file  \\\n",
       "4  [cats, dogs, books, chairs, houses, cars, appl...                   80   \n",
       "\n",
       "                            common_elements_per_file  count_common_per_file  \\\n",
       "4  [places, fingers, plates, movies, clouds, hats...                     80   \n",
       "\n",
       "   more_or_less_true slayer elayer  per_file_prob  prob_diff  \\\n",
       "4                  0     40     47       0.396149   0.048455   \n",
       "\n",
       "   true_pred_minus_common_count  \n",
       "4                             0  "
      ]
     },
     "execution_count": 222,
     "metadata": {},
     "output_type": "execute_result"
    }
   ],
   "source": [
    "df[df['prob_diff'] == min_diff]"
   ]
  },
  {
   "cell_type": "code",
   "execution_count": 223,
   "id": "07933f5e",
   "metadata": {},
   "outputs": [
    {
     "data": {
      "text/plain": [
       "<Axes: >"
      ]
     },
     "execution_count": 223,
     "metadata": {},
     "output_type": "execute_result"
    },
    {
     "data": {
      "image/png": "[encoded data removed]",
      "text/plain": [
       "<Figure size 640x480 with 1 Axes>"
      ]
     },
     "metadata": {},
     "output_type": "display_data"
    }
   ],
   "source": [
    "df['prob_diff'].plot()"
   ]
  },
  {
   "cell_type": "code",
   "execution_count": null,
   "id": "fecfb295",
   "metadata": {},
   "outputs": [],
   "source": []
  },
  {
   "cell_type": "code",
   "execution_count": null,
   "id": "2cc4955c",
   "metadata": {},
   "outputs": [],
   "source": []
  },
  {
   "cell_type": "code",
   "execution_count": null,
   "id": "34b8b551",
   "metadata": {},
   "outputs": [],
   "source": []
  },
  {
   "cell_type": "code",
   "execution_count": null,
   "id": "22864c59",
   "metadata": {},
   "outputs": [],
   "source": []
  },
  {
   "cell_type": "code",
   "execution_count": null,
   "id": "dd413cbb",
   "metadata": {},
   "outputs": [],
   "source": []
  },
  {
   "cell_type": "code",
   "execution_count": null,
   "id": "27c495ff",
   "metadata": {},
   "outputs": [],
   "source": []
  }
 ],
 "metadata": {
  "kernelspec": {
   "display_name": "Python 3 (ipykernel)",
   "language": "python",
   "name": "python3"
  },
  "language_info": {
   "codemirror_mode": {
    "name": "ipython",
    "version": 3
   },
   "file_extension": ".py",
   "mimetype": "text/x-python",
   "name": "python",
   "nbconvert_exporter": "python",
   "pygments_lexer": "ipython3",
   "version": "3.9.16"
  }
 },
 "nbformat": 4,
 "nbformat_minor": 5
}
