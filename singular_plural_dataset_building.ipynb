{
 "cells": [
  {
   "cell_type": "code",
   "execution_count": 1,
   "id": "0b2f727e",
   "metadata": {},
   "outputs": [],
   "source": [
    "import numpy as np\n",
    "import pandas as pd\n",
    "import os\n",
    "import random\n",
    "\n"
   ]
  },
  {
   "cell_type": "code",
   "execution_count": 2,
   "id": "90c92c12",
   "metadata": {},
   "outputs": [],
   "source": [
    "singular_s = ['cat', 'dog', 'book', 'chair','house', 'car', 'apple',\n",
    "              'pen', 'desk', 'cup', 'hat', 'tree', 'flower', 'computer',\n",
    "              'window', 'river', 'ocean', 'friend', 'neighbor', 'teacher',\n",
    "              'doctor', 'actor', 'artist', 'athlete', 'bird', 'toy', 'key',\n",
    "              'taxi', 'piano', 'guitar', 'violin', 'language', 'song','ball',\n",
    "              'game', 'movie', 'market', 'hotel', 'classroom', 'plate', 'knife',\n",
    "              'fork', 'spoon', 'ring', 'shirt', 'skirt', 'shoe', 'hand', 'head', 'eye',\n",
    "              'ear', 'nose', 'mouth', 'finger', 'toe', 'knee', 'elbow', 'shoulder', 'leg',\n",
    "              'arm', 'wing', 'root', 'planet', 'star', 'universe', 'cloud', 'sun', 'moon',\n",
    "              'road', 'paper', 'page', 'laptop', 'pencil', 'top', 'cover', 'table', 'pot'\n",
    "              'scale', 'bottle', 'sticker', 'wire', 'fruit', 'train', 'plane', 'arrow', 'fan',\n",
    "              'charger', 'human', 'peanut', 'nut', 'bolt', 'almond', 'male', 'food', 'trip',\n",
    "              'mountain', 'line', 'bulb', 'filter', 'tire', 'rose', 'cap', 'day','rope', 'chain',\n",
    "              'word', 'click', 'number', 'image', 'set', 'model', 'circuit', 'clip', 'stage', 'ribbon',\n",
    "              'board', 'feather', 'color', 'phone', 'printer', 'plant', 'notice', 'vice', 'place',\n",
    "              'race', 'choice', 'spice', 'service'\n",
    "\n",
    "              ]\n"
   ]
  },
  {
   "cell_type": "code",
   "execution_count": 3,
   "id": "ad1d8a0b",
   "metadata": {},
   "outputs": [
    {
     "data": {
      "text/plain": [
       "127"
      ]
     },
     "execution_count": 3,
     "metadata": {},
     "output_type": "execute_result"
    }
   ],
   "source": [
    "len(singular_s)"
   ]
  },
  {
   "cell_type": "code",
   "execution_count": 48,
   "id": "2d940192",
   "metadata": {},
   "outputs": [],
   "source": [
    "sentence = []\n",
    "answer = []\n",
    "for each in singular_s:\n",
    "    sentence.append('The plural of ' + each + ' is')\n",
    "    answer.append(each + 's')\n"
   ]
  },
  {
   "cell_type": "code",
   "execution_count": 49,
   "id": "da356497",
   "metadata": {},
   "outputs": [],
   "source": [
    "df = pd.DataFrame({\n",
    "    'sentence':sentence,\n",
    "    'answer':answer\n",
    "})"
   ]
  },
  {
   "cell_type": "code",
   "execution_count": 50,
   "id": "06b01bd3",
   "metadata": {},
   "outputs": [],
   "source": [
    "df.to_csv('../dataset_csvs_singular_plural/s_plurals.csv', index = False)"
   ]
  },
  {
   "cell_type": "code",
   "execution_count": 4,
   "id": "98bef310",
   "metadata": {},
   "outputs": [
    {
     "data": {
      "text/plain": [
       "41"
      ]
     },
     "execution_count": 4,
     "metadata": {},
     "output_type": "execute_result"
    }
   ],
   "source": [
    "singular_es = [\n",
    "    'hero', 'echo', 'potato', 'tomato', 'box', 'church', 'class', 'church', 'watch', 'bus',\n",
    "    'dish', 'match', 'brush', 'buzz', 'dress', 'glass', 'fox', 'cross', 'tax', 'branch', 'bunch',\n",
    "    'wish', 'crash', 'gas', 'pass', 'guess', 'flash', 'press', 'mass', 'focus', \n",
    "    'lens', 'kiss', 'circus', 'nexus', 'city', 'country', 'company', 'leaf', 'library', 'galaxy', 'greenfly'\n",
    "              ]\n",
    "plural_es = [\n",
    "    'heroes', 'echoes', 'potatoes', 'tomatoes', 'boxes', 'churches', 'classes', 'churches', 'watches', 'buses',\n",
    "    'dishes', 'matches', 'brushes', 'buzzes', 'dresses', 'glasses', 'foxes', 'crosses', 'taxes', 'branches', 'bunches',\n",
    "    'wishes', 'crashes', 'gases', 'passes', 'guesses', 'flashes', 'presses', 'masses', 'focuses',\n",
    "    'lenses', 'kisses', 'circuses', 'nexuses', 'cities', 'countries', 'companies', 'leaves', 'libraries', 'galaxies', 'greenflies'\n",
    "              ]\n",
    "len(singular_es)"
   ]
  },
  {
   "cell_type": "code",
   "execution_count": 52,
   "id": "431076c7",
   "metadata": {},
   "outputs": [],
   "source": [
    "sentence = []\n",
    "answer = []\n",
    "for i, each in enumerate(singular_es):\n",
    "    sentence.append('The plural of ' + each + ' is')\n",
    "    answer.append(plural_es[i])\n",
    "\n",
    "df = pd.DataFrame({\n",
    "    'sentence':sentence,\n",
    "    'answer':answer\n",
    "})\n",
    "df.to_csv('../dataset_csvs_singular_plural/es_plurals.csv', index = False)"
   ]
  },
  {
   "cell_type": "code",
   "execution_count": 5,
   "id": "ba730567",
   "metadata": {},
   "outputs": [
    {
     "data": {
      "text/plain": [
       "64"
      ]
     },
     "execution_count": 5,
     "metadata": {},
     "output_type": "execute_result"
    }
   ],
   "source": [
    "singular_same = [\n",
    "    'aircraft', 'eyeglasses', 'news', 'mews', 'sheep', 'alms',\n",
    "    'gallows', 'monkfish', 'shellfish', 'barracks', 'goldfish',\n",
    "    'moose', 'shorts', 'binoculars', 'grapefruit', 'shrimp', 'bison',\n",
    "    'offspring', 'smithereens', 'bourgeois', 'grouse', 'pants', 'spacecraft',\n",
    "    'breadfruit', 'haddock','species', 'cattle', 'halibut', 'patois',\n",
    "    'squid', 'chalk', 'headquaters', 'pilers', 'staff', 'chassis',\n",
    "    'hovercraft', 'police', 'starfruit', 'chinos', 'swine', 'cod', 'insignia',\n",
    "    'premises', 'tongs', 'corps', 'jackfruit', 'pyjamas', 'crossroads', 'jeans',\n",
    "    'reindeer', 'trout', 'deer', 'kennels', 'rendezvous', 'knickers', 'salmon',\n",
    "    'tweezers', 'dungarees', 'leggings', 'scissors', 'wheat', 'elk', 'series', 'you'\n",
    "    ]\n",
    "\n",
    "len(singular_same)"
   ]
  },
  {
   "cell_type": "code",
   "execution_count": 54,
   "id": "a1906370",
   "metadata": {},
   "outputs": [],
   "source": [
    "sentence = []\n",
    "answer = []\n",
    "for each in singular_same:\n",
    "    sentence.append('The plural of ' + each + ' is')\n",
    "    answer.append(each)\n",
    "df = pd.DataFrame({\n",
    "    'sentence':sentence,\n",
    "    'answer':answer\n",
    "})\n",
    "df.to_csv('../dataset_csvs_singular_plural/same_plurals.csv', index = False)"
   ]
  },
  {
   "cell_type": "code",
   "execution_count": null,
   "id": "d028e0a6",
   "metadata": {},
   "outputs": [],
   "source": []
  },
  {
   "cell_type": "code",
   "execution_count": 6,
   "id": "542b1940",
   "metadata": {},
   "outputs": [
    {
     "data": {
      "text/plain": [
       "31"
      ]
     },
     "execution_count": 6,
     "metadata": {},
     "output_type": "execute_result"
    }
   ],
   "source": [
    "singular_vowel = [\n",
    "    'man', 'woman', 'child', 'tooth', 'foot', 'goose', 'mouse', 'louse', 'person', 'ox', 'die', 'penny', 'cactus', 'focus', 'fungus', 'thesis', 'analysis', 'basis', 'crisis', 'hypothesis', 'parenthesis', 'synthesis', 'ellipsis', 'phenomenon', 'criterion', 'datum', 'medium', 'index', 'matrix', 'vertex', 'stratum'\n",
    "    ]\n",
    "\n",
    "len(singular_vowel)"
   ]
  },
  {
   "cell_type": "code",
   "execution_count": null,
   "id": "2a84b130",
   "metadata": {},
   "outputs": [],
   "source": []
  }
 ],
 "metadata": {
  "kernelspec": {
   "display_name": "Python 3 (ipykernel)",
   "language": "python",
   "name": "python3"
  },
  "language_info": {
   "codemirror_mode": {
    "name": "ipython",
    "version": 3
   },
   "file_extension": ".py",
   "mimetype": "text/x-python",
   "name": "python",
   "nbconvert_exporter": "python",
   "pygments_lexer": "ipython3",
   "version": "3.9.16"
  }
 },
 "nbformat": 4,
 "nbformat_minor": 5
}
