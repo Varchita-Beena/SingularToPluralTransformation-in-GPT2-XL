{
 "cells": [
  {
   "cell_type": "code",
   "execution_count": 1,
   "id": "0b2f727e",
   "metadata": {},
   "outputs": [],
   "source": [
    "import torch\n",
    "import numpy\n",
    "import pandas as pd\n",
    "import os\n",
    "import random\n",
    "#import transformer_lens.utils as utils\n",
    "#from transformer_lens import ActivationCache, HookedTransformer\n",
    "import numpy as np\n",
    "import seaborn as sns\n",
    "import matplotlib.pyplot as plt\n"
   ]
  },
  {
   "cell_type": "code",
   "execution_count": 2,
   "id": "22d03ae8",
   "metadata": {},
   "outputs": [],
   "source": [
    "df = pd.read_csv('../dataset_csvs_singular_plural/predictions/correct_preds_xl_s_plural.csv')\n",
    "data_path = '../feature_maps_analysis_arrays/'\n",
    "#data_path = '../attention_arrays/'"
   ]
  },
  {
   "cell_type": "code",
   "execution_count": 3,
   "id": "6fa5314e",
   "metadata": {},
   "outputs": [
    {
     "data": {
      "text/plain": [
       "52000"
      ]
     },
     "execution_count": 3,
     "metadata": {},
     "output_type": "execute_result"
    }
   ],
   "source": [
    "npys = os.listdir(data_path)\n",
    "if '.DS_Store' in npys:\n",
    "    npys.remove('.DS_Store')\n",
    "len(npys)"
   ]
  },
  {
   "cell_type": "code",
   "execution_count": 4,
   "id": "7dbf720d",
   "metadata": {},
   "outputs": [
    {
     "data": {
      "text/plain": [
       "'s_plural_datapoint_61_22_1.npy'"
      ]
     },
     "execution_count": 4,
     "metadata": {},
     "output_type": "execute_result"
    }
   ],
   "source": [
    "npys[0]"
   ]
  },
  {
   "cell_type": "code",
   "execution_count": 13,
   "id": "c7415c68",
   "metadata": {},
   "outputs": [
    {
     "name": "stdout",
     "output_type": "stream",
     "text": [
      "0\n",
      "1\n",
      "2\n",
      "3\n",
      "4\n",
      "5\n",
      "6\n",
      "7\n",
      "8\n",
      "9\n",
      "10\n",
      "11\n",
      "12\n",
      "13\n",
      "14\n",
      "15\n",
      "16\n",
      "17\n",
      "18\n",
      "19\n",
      "20\n",
      "21\n",
      "22\n",
      "23\n",
      "24\n",
      "25\n",
      "26\n",
      "27\n",
      "28\n",
      "29\n",
      "30\n",
      "31\n",
      "32\n",
      "33\n",
      "34\n",
      "35\n",
      "36\n",
      "37\n",
      "38\n",
      "39\n",
      "40\n",
      "41\n",
      "42\n",
      "43\n",
      "44\n",
      "45\n",
      "46\n",
      "47\n",
      "48\n",
      "49\n",
      "50\n",
      "51\n",
      "52\n",
      "53\n",
      "54\n",
      "55\n",
      "56\n",
      "57\n",
      "58\n",
      "59\n",
      "60\n",
      "61\n",
      "62\n",
      "63\n",
      "64\n",
      "65\n",
      "66\n",
      "67\n",
      "68\n",
      "69\n",
      "70\n",
      "71\n",
      "72\n",
      "73\n",
      "74\n",
      "75\n",
      "76\n",
      "77\n",
      "78\n",
      "79\n"
     ]
    }
   ],
   "source": [
    "datapoints = 80\n",
    "layers = 6\n",
    "heads = 25\n",
    "\n",
    "point_maps = []\n",
    "for point in range(0, datapoints):\n",
    "    print(point)\n",
    "    for lay in range(6, 12): \n",
    "        head_array = np.zeros((6,6))\n",
    "        cumulative_attention = np.eye(6)\n",
    "        for head in range(0, heads):\n",
    "            temp_path = data_path + 's_plural_datapoint_' + str(point) + '_' + str(lay) + '_' + str(head) + '.npy'\n",
    "            temp_array = np.load(temp_path)\n",
    "            head_array += temp_array\n",
    "        \n",
    "        head_array /= heads \n",
    "        head_array = head_array + cumulative_attention\n",
    "        head_array = head_array / head_array.sum(axis=-1, keepdims=True)\n",
    "        cumulative_attention = cumulative_attention @ head_array\n",
    "    point_maps.append(cumulative_attention)\n",
    "\n"
   ]
  },
  {
   "cell_type": "code",
   "execution_count": 14,
   "id": "291b4ac0",
   "metadata": {},
   "outputs": [
    {
     "data": {
      "text/plain": [
       "80"
      ]
     },
     "execution_count": 14,
     "metadata": {},
     "output_type": "execute_result"
    }
   ],
   "source": [
    "len(point_maps)"
   ]
  },
  {
   "cell_type": "code",
   "execution_count": 15,
   "id": "6a804c02",
   "metadata": {},
   "outputs": [
    {
     "data": {
      "text/plain": [
       "(6, 6)"
      ]
     },
     "execution_count": 15,
     "metadata": {},
     "output_type": "execute_result"
    }
   ],
   "source": [
    "point_maps = np.array(point_maps)\n",
    "rollout = point_maps.mean(axis = 0)\n",
    "rollout.shape"
   ]
  },
  {
   "cell_type": "code",
   "execution_count": 17,
   "id": "d72ccf6d",
   "metadata": {},
   "outputs": [
    {
     "data": {
      "image/png": "[encoded data removed]",
      "text/plain": [
       "<Figure size 800x600 with 2 Axes>"
      ]
     },
     "metadata": {},
     "output_type": "display_data"
    }
   ],
   "source": [
    "plt.figure(figsize=(8, 6))\n",
    "plt.imshow(rollout, cmap='viridis')\n",
    "plt.title('Aggregated Attention Rollout from Layers 6 to 11')\n",
    "plt.colorbar()\n",
    "plt.savefig('../AggregatedAttentionRollout6_11.png')\n",
    "plt.show()"
   ]
  },
  {
   "cell_type": "code",
   "execution_count": null,
   "id": "5a38645a",
   "metadata": {},
   "outputs": [],
   "source": []
  }
 ],
 "metadata": {
  "kernelspec": {
   "display_name": "Python 3 (ipykernel)",
   "language": "python",
   "name": "python3"
  },
  "language_info": {
   "codemirror_mode": {
    "name": "ipython",
    "version": 3
   },
   "file_extension": ".py",
   "mimetype": "text/x-python",
   "name": "python",
   "nbconvert_exporter": "python",
   "pygments_lexer": "ipython3",
   "version": "3.9.16"
  }
 },
 "nbformat": 4,
 "nbformat_minor": 5
}
