{
 "cells": [
  {
   "cell_type": "code",
   "execution_count": null,
   "id": "0b2f727e",
   "metadata": {},
   "outputs": [],
   "source": [
    "import torch\n",
    "import numpy\n",
    "import pandas as pd\n",
    "import os\n",
    "import random\n",
    "import transformer_lens.utils as utils\n",
    "from transformer_lens import ActivationCache, HookedTransformer\n",
    "import numpy as np\n",
    "import seaborn as sns\n",
    "import matplotlib.pyplot as plt\n",
    "import torch\n",
    "import torch.nn.functional as F\n"
   ]
  },
  {
   "cell_type": "code",
   "execution_count": null,
   "id": "dd6ab08a",
   "metadata": {},
   "outputs": [],
   "source": [
    "model = HookedTransformer.from_pretrained(\n",
    "    \"gpt2-XL\",\n",
    "    center_unembed=True,\n",
    "    center_writing_weights=True,\n",
    "    fold_ln=True,\n",
    "    refactor_factored_attn_matrices=True\n",
    ")\n"
   ]
  },
  {
   "cell_type": "code",
   "execution_count": null,
   "id": "dad54ee3",
   "metadata": {},
   "outputs": [],
   "source": [
    "model"
   ]
  },
  {
   "cell_type": "code",
   "execution_count": null,
   "id": "d42dd0ad",
   "metadata": {},
   "outputs": [],
   "source": [
    "data_path = '../dataset_csvs_singular_plural/s_plurals.csv'"
   ]
  },
  {
   "cell_type": "code",
   "execution_count": null,
   "id": "849bd1c9",
   "metadata": {},
   "outputs": [],
   "source": [
    "data = pd.read_csv(data_path)\n",
    "data.shape, data.columns"
   ]
  },
  {
   "cell_type": "code",
   "execution_count": null,
   "id": "d9fd2c2d",
   "metadata": {},
   "outputs": [],
   "source": [
    "average_attention_weights = np.load('../nouns_average_weights_sing_to_plu.npy')"
   ]
  },
  {
   "cell_type": "code",
   "execution_count": null,
   "id": "82243b30",
   "metadata": {},
   "outputs": [],
   "source": [
    "average_attention_weights.shape"
   ]
  },
  {
   "cell_type": "code",
   "execution_count": null,
   "id": "5ef1d15d",
   "metadata": {},
   "outputs": [],
   "source": [
    "layers = 48\n",
    "heads = 25\n",
    "dim = 64"
   ]
  },
  {
   "cell_type": "code",
   "execution_count": null,
   "id": "235b7047",
   "metadata": {},
   "outputs": [],
   "source": [
    "import ast\n",
    "\n",
    "token0_file = '../dataset_csvs_singular_plural/predictions/coordinates_tokens_0.txt'\n",
    "token1_file = '../dataset_csvs_singular_plural/predictions/coordinates_tokens_1.txt'\n",
    "token2_file = '../dataset_csvs_singular_plural/predictions/coordinates_tokens_2.txt'\n",
    "token3_file = '../dataset_csvs_singular_plural/predictions/coordinates_tokens_3.txt'\n",
    "token4_file = '../dataset_csvs_singular_plural/predictions/coordinates_tokens_4.txt'\n",
    "\n",
    "files = [token0_file, token1_file, token2_file, token3_file, token4_file]\n",
    "\n",
    "line_to_process = 0\n",
    "head_ablation_mapping = {}\n",
    "for i, file_name in enumerate(files):\n",
    "    with open(file_name, 'r') as file:\n",
    "        token0_data = file.readlines()  # Read all lines into a list\n",
    "        \n",
    "        token0_interval_0 = token0_data[line_to_process].strip()\n",
    "        split_string = token0_interval_0.split(':')\n",
    "        \n",
    "        token0_interval_0_list = ast.literal_eval(split_string[1][2:-1])  # Convert string to list using ast\n",
    "        token_0 ={}\n",
    "        for each in token0_interval_0_list:\n",
    "            each[0] = each[0] + 6\n",
    "            if each[0] in token_0.keys():\n",
    "                token_0[each[0]].append(each[1])\n",
    "            else:\n",
    "                token_0[each[0]] = [each[1]]\n",
    "\n",
    "        if i == 0:\n",
    "            head_ablation_mapping[1] = token_0\n",
    "        elif i == 1:\n",
    "            head_ablation_mapping[2] = token_0\n",
    "        elif i == 2:\n",
    "            head_ablation_mapping[3] = token_0\n",
    "        elif i == 3:\n",
    "            head_ablation_mapping[4] = token_0\n",
    "        elif i == 4:\n",
    "            head_ablation_mapping[5] = token_0\n",
    "        \n",
    "        \n",
    "        \n",
    "\n"
   ]
  },
  {
   "cell_type": "code",
   "execution_count": null,
   "id": "933b5c24",
   "metadata": {},
   "outputs": [],
   "source": [
    "head_ablation_mapping = {token: dict(sorted(heads.items())) for token, heads in head_ablation_mapping.items()}\n"
   ]
  },
  {
   "cell_type": "code",
   "execution_count": null,
   "id": "9d788bf0",
   "metadata": {},
   "outputs": [],
   "source": [
    "head_ablation_mapping.keys()"
   ]
  },
  {
   "cell_type": "code",
   "execution_count": null,
   "id": "9f9dccd6",
   "metadata": {},
   "outputs": [],
   "source": [
    "import torch\n",
    "import torch.nn.functional as F\n",
    "import pandas as pd\n",
    "\n",
    "def replace_hook_z(z, hook, heads_to_ablate, token_idx):\n",
    "    #print(\"replace_hook_z called\")\n",
    "    #print(f\"Hook name: {hook.name}\")\n",
    "    #print(f\"z shape: {z.shape}\")\n",
    "    layer_num = int(hook.name.split('.')[1])\n",
    "    try:\n",
    "        heads = heads_to_ablate[layer_num]\n",
    "    except:\n",
    "        return z\n",
    "  \n",
    "    for head_index in heads:\n",
    "        if head_index < z.size(2):  # Ensure head_index is within bounds\n",
    "            # Use the correct slice from average_attention_weights\n",
    "            avg_weight = average_attention_weights[layer_num, head_index, :]\n",
    "            z[:, token_idx, head_index, :] = torch.from_numpy(avg_weight).to(z.device)\n",
    "\n",
    "    return z\n",
    "\n",
    "results = []\n",
    "for idx, row in data.iterrows():\n",
    "    singular = row['sentence']\n",
    "    plural = row['answer']\n",
    "    \n",
    "    hooks = []\n",
    "    print(f\"Processing sentence {idx+1}/{len(data)}\")\n",
    "\n",
    "    # Create hooks for each token\n",
    "    for token, layer_heads_mapping in head_ablation_mapping.items():\n",
    "        #print(f\"Token: {token}\")\n",
    "        for layer, heads in layer_heads_mapping.items():            \n",
    "            #print(f\"Layer: {layer}, Heads: {heads}\")\n",
    "            if isinstance(heads, int):\n",
    "                heads = [heads]\n",
    "            hooks.append((\n",
    "                f'blocks.{layer}.attn.hook_z', lambda z, hook, heads=heads: replace_hook_z(z, hook, layer_heads_mapping, token)\n",
    "            ))\n",
    "\n",
    "    #print(f\"Hooks created: {hooks}\")\n",
    "\n",
    "    # Run the forward pass with the hooks\n",
    "    with model.hooks(fwd_hooks=hooks):\n",
    "        logits = model(singular, prepend_bos=True, return_type=\"logits\")\n",
    "    \n",
    "    # Get the prediction and probability\n",
    "    probs = F.softmax(logits[0, -1], dim=-1)\n",
    "    pred_id = probs.argmax().item()\n",
    "    prediction = model.to_string(pred_id)\n",
    "    probability = probs[pred_id].item()\n",
    "\n",
    "    results.append({\n",
    "        'singular': singular,\n",
    "        'plural': plural,\n",
    "        'prediction': prediction,\n",
    "        'probability': probability,\n",
    "    })\n",
    "    \n",
    "    \n",
    "# Convert results to a DataFrame outside the loop\n",
    "results_df = pd.DataFrame(results)\n",
    "\n",
    "# Count correct predictions only once at the end\n",
    "correct_count = sum(row['plural'] == row['prediction'] for _, row in results_df.iterrows())\n",
    "print(f\"Correct predictions: {correct_count}/{len(results_df)} ({correct_count/len(results_df)*100:.2f}%)\")\n"
   ]
  },
  {
   "cell_type": "code",
   "execution_count": null,
   "id": "3263abad",
   "metadata": {},
   "outputs": [],
   "source": []
  }
 ],
 "metadata": {
  "kernelspec": {
   "display_name": "Python 3 (ipykernel)",
   "language": "python",
   "name": "python3"
  },
  "language_info": {
   "codemirror_mode": {
    "name": "ipython",
    "version": 3
   },
   "file_extension": ".py",
   "mimetype": "text/x-python",
   "name": "python",
   "nbconvert_exporter": "python",
   "pygments_lexer": "ipython3",
   "version": "3.9.16"
  }
 },
 "nbformat": 4,
 "nbformat_minor": 5
}
