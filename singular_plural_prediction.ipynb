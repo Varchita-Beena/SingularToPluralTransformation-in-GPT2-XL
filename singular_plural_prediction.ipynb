{
 "cells": [
  {
   "cell_type": "code",
   "execution_count": 2,
   "id": "0b2f727e",
   "metadata": {},
   "outputs": [],
   "source": [
    "import torch\n",
    "import numpy\n",
    "import pandas as pd\n",
    "import os\n",
    "import random\n",
    "import transformer_lens.utils as utils\n",
    "from transformer_lens import ActivationCache, HookedTransformer\n",
    "import numpy as np\n",
    "import seaborn as sns\n",
    "import matplotlib.pyplot as plt\n"
   ]
  },
  {
   "cell_type": "code",
   "execution_count": 3,
   "id": "dd6ab08a",
   "metadata": {},
   "outputs": [
    {
     "name": "stdout",
     "output_type": "stream",
     "text": [
      "Loaded pretrained model gpt2-XL into HookedTransformer\n"
     ]
    }
   ],
   "source": [
    "model = HookedTransformer.from_pretrained(\n",
    "    \"gpt2-XL\",\n",
    "    center_unembed=True,\n",
    "    center_writing_weights=True,\n",
    "    fold_ln=True,\n",
    "    refactor_factored_attn_matrices=True\n",
    ")\n"
   ]
  },
  {
   "cell_type": "code",
   "execution_count": 16,
   "id": "d42dd0ad",
   "metadata": {},
   "outputs": [],
   "source": [
    "data_path = '../dataset_csvs_singular_plural/vowel_plurals.csv'"
   ]
  },
  {
   "cell_type": "code",
   "execution_count": 17,
   "id": "849bd1c9",
   "metadata": {},
   "outputs": [
    {
     "data": {
      "text/plain": [
       "((31, 2), Index(['Sentence', 'Answer'], dtype='object'))"
      ]
     },
     "execution_count": 17,
     "metadata": {},
     "output_type": "execute_result"
    }
   ],
   "source": [
    "data = pd.read_csv(data_path)\n",
    "data.shape, data.columns"
   ]
  },
  {
   "cell_type": "code",
   "execution_count": 18,
   "id": "e0242431",
   "metadata": {},
   "outputs": [
    {
     "name": "stdout",
     "output_type": "stream",
     "text": [
      "0\n",
      "1\n",
      "2\n",
      "3\n",
      "4\n",
      "5\n",
      "6\n",
      "7\n",
      "8\n",
      "9\n",
      "10\n",
      "11\n",
      "12\n",
      "13\n",
      "14\n",
      "15\n",
      "16\n",
      "17\n",
      "18\n",
      "19\n",
      "20\n",
      "21\n",
      "22\n",
      "23\n",
      "24\n",
      "25\n",
      "26\n",
      "27\n",
      "28\n",
      "29\n",
      "30\n"
     ]
    }
   ],
   "source": [
    "probabilities = []\n",
    "predictions = []\n",
    "k = 1\n",
    "#keep_cache = True  # Set this to True if you need to analyze intermediate activations\n",
    "\n",
    "for i, row in data.iterrows():\n",
    "    print(i)\n",
    "    example_prompt = row['Sentence']\n",
    "    example_answer = row['Answer']\n",
    "    tokens = model.to_tokens(example_prompt, prepend_bos=True)\n",
    "    logits, cache = model.run_with_cache(tokens) #if keep_cache else (model(tokens), None)\n",
    "    year_probs = torch.softmax(logits[:, -1, :], dim=-1)\n",
    "    topk = torch.topk(year_probs, k=k)\n",
    "    topk_tokens = [[model.tokenizer.decode(top) for top in ex] for ex in topk.indices]\n",
    "    probs_array = topk.values.cpu().detach().numpy()[0].tolist()\n",
    "    predictions.extend(topk_tokens[0])\n",
    "    probabilities.extend(probs_array)\n",
    "    \n",
    "   "
   ]
  },
  {
   "cell_type": "code",
   "execution_count": 19,
   "id": "2a3a2551",
   "metadata": {},
   "outputs": [
    {
     "data": {
      "text/plain": [
       "10"
      ]
     },
     "execution_count": 19,
     "metadata": {},
     "output_type": "execute_result"
    }
   ],
   "source": [
    "sent = []\n",
    "correct = []\n",
    "preds = []\n",
    "probs = []\n",
    "count = 0\n",
    "for i, row in data.iterrows():\n",
    "    example_answer = row['Answer']\n",
    "    pred = predictions[i][1:]\n",
    "    #print(pred, example_answer)\n",
    "    example_prompt = row['Sentence']\n",
    "    if example_answer == pred:\n",
    "        count += 1\n",
    "        sent.append(example_prompt)\n",
    "        correct.append(example_answer)\n",
    "        preds.append(pred)\n",
    "        probs.append(probabilities[i])\n",
    "count"
   ]
  },
  {
   "cell_type": "code",
   "execution_count": null,
   "id": "7c18b99e",
   "metadata": {},
   "outputs": [],
   "source": [
    "df = pd.DataFrame({\n",
    "    'sentence':sent,\n",
    "    'snswer':correct,\n",
    "    'predictions':preds,\n",
    "    'probabilities':probs\n",
    "})"
   ]
  },
  {
   "cell_type": "code",
   "execution_count": null,
   "id": "84016935",
   "metadata": {},
   "outputs": [],
   "source": [
    "data['predictions'] = predictions\n",
    "data['probabilities'] = probabilities"
   ]
  },
  {
   "cell_type": "code",
   "execution_count": null,
   "id": "66985c0d",
   "metadata": {},
   "outputs": [],
   "source": [
    "df.to_csv('../dataset_csvs_singular_plural/predictions/correct_preds_xl_es_plural.csv', index = False)\n",
    "data.to_csv('../dataset_csvs_singular_plural/predictions/all_preds_xl_es_plural.csv', index = False)"
   ]
  },
  {
   "cell_type": "code",
   "execution_count": null,
   "id": "765af62d",
   "metadata": {},
   "outputs": [],
   "source": [
    "df.shape, data.shape"
   ]
  },
  {
   "cell_type": "code",
   "execution_count": null,
   "id": "5bed35ba",
   "metadata": {},
   "outputs": [],
   "source": []
  },
  {
   "cell_type": "code",
   "execution_count": null,
   "id": "4dc81f07",
   "metadata": {},
   "outputs": [],
   "source": []
  }
 ],
 "metadata": {
  "kernelspec": {
   "display_name": "Python 3 (ipykernel)",
   "language": "python",
   "name": "python3"
  },
  "language_info": {
   "codemirror_mode": {
    "name": "ipython",
    "version": 3
   },
   "file_extension": ".py",
   "mimetype": "text/x-python",
   "name": "python",
   "nbconvert_exporter": "python",
   "pygments_lexer": "ipython3",
   "version": "3.9.16"
  }
 },
 "nbformat": 4,
 "nbformat_minor": 5
}
